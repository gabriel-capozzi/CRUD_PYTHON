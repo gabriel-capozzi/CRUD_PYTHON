{
  "cells": [
    {
      "cell_type": "markdown",
      "source": [
        "# **SIMPLE CRUD IN PYTHON**"
      ],
      "metadata": {
        "id": "tiRoObCZ_NQZ"
      }
    },
    {
      "cell_type": "code",
      "source": [
        "#importamdo bibliotecas\n",
        "import pandas as pd"
      ],
      "metadata": {
        "id": "J1bqDfTD_GnV"
      },
      "execution_count": null,
      "outputs": []
    },
    {
      "cell_type": "code",
      "execution_count": null,
      "metadata": {
        "id": "SR3INld-yMYg"
      },
      "outputs": [],
      "source": [
        "#Declarando dicionario inicial\n",
        "products =  {1 : 'Notebook' ,  2: 'Iphone', 3 : 'SmarthPhone', 4 : 'Ipad'}"
      ]
    },
    {
      "cell_type": "code",
      "execution_count": null,
      "metadata": {
        "id": "jRXJDzUoytiu"
      },
      "outputs": [],
      "source": [
        "# Funcao que recebe e adiciona um novo registo de valor.\n",
        "def add_product(code, name):\n",
        "  if code in products:\n",
        "    print(f'This code already has an product: {products[code]}')\n",
        "  else:\n",
        "    products[code] = name \n",
        "    print('The product is now in the dataBase')\n"
      ]
    },
    {
      "cell_type": "code",
      "execution_count": null,
      "metadata": {
        "id": "taJuBAwZzv6-"
      },
      "outputs": [],
      "source": [
        "# funcao para deletar arquivo.\n",
        "def del_product(code):\n",
        "  if code in products:\n",
        "    print(f'Are you sure that you want to delete: {products[code]}?')\n",
        "    answer = input('Press 1 to proceed or 2 to cancel:')\n",
        "    if int(answer) == 1: \n",
        "      del products[code]\n",
        "      print('The product has been deleted from the dataBase')\n",
        "    elif int(answer) == 2:\n",
        "      print('Action Cancelled')\n",
        "    else:\n",
        "      print('Invalid option')\n",
        "  else:\n",
        "    print('The imputed code does not exist in the dataBase')"
      ]
    },
    {
      "cell_type": "code",
      "execution_count": null,
      "metadata": {
        "id": "71Yixgzm0sbl"
      },
      "outputs": [],
      "source": [
        "#Função para consultar toda a lista de produtos\n",
        "def consult_products():\n",
        "  productsList = pd.DataFrame(list(products.items()), columns= ['code', 'product']).set_index(['code']).sort_values('code')\n",
        "  return productsList"
      ]
    },
    {
      "cell_type": "code",
      "execution_count": null,
      "metadata": {
        "id": "16hGEpeM0uI9"
      },
      "outputs": [],
      "source": [
        "# Funcao para fazer update de um produto\n",
        "def update_name(code):\n",
        "  if code in products:\n",
        "    print(f'You will update the following product: {products[code]}')\n",
        "    answer2 = input('Press 1 to proceed or 2 to cancel: ')\n",
        "    if int(answer2)== 1:\n",
        "      answer3 = input('Imput the new product name: ')\n",
        "      products[code] = str(answer3)\n",
        "      print('The product has been updated')\n",
        "    elif int(answer2) == 2:\n",
        "      print('Action Cancelled')\n",
        "  else:\n",
        "    print('The imputed code does not exist in the dataBase')"
      ]
    },
    {
      "cell_type": "code",
      "execution_count": null,
      "metadata": {
        "id": "ALfyYXB--F-2"
      },
      "outputs": [],
      "source": [
        "#Função menu que invoca todas as outras funções dependendo do input do usuario\n",
        "def menu():\n",
        "  answer4 = input(' Select one option \\n [A] Add new Product \\n [B] Consult Products \\n [C] Update a Product Name \\n [D] Delete Item \\n [E] To Exit \\n')\n",
        "  if str(answer4) == 'A':\n",
        "    code = int(input('Input the New Code to add in the DataBase: '))\n",
        "    name = input('Input the new Name to add in the DataBase: ')\n",
        "    add_product(code,name)\n",
        "    print('--' *15)\n",
        "    menu()\n",
        "  elif str(answer4) == 'B':\n",
        "   print(consult_products())\n",
        "   print('--' *15)\n",
        "   menu()\n",
        "  elif str(answer4) == 'C':\n",
        "    code = int(input('Input the code to be updated '))\n",
        "    update_name(code)\n",
        "    print('--' *15)\n",
        "    menu()\n",
        "  elif str(answer4) == 'D':\n",
        "    code = int(input('Input the code to be delete '))\n",
        "    del_product(code)\n",
        "    print('--' *15)\n",
        "    menu()\n",
        "  elif str(answer4) == 'E':\n",
        "    print('See you')\n",
        "  else:\n",
        "    print('Please select a valid option ')\n",
        "    menu()\n",
        "    print('--' *15)"
      ]
    },
    {
      "cell_type": "code",
      "source": [],
      "metadata": {
        "id": "diSCKehZDvz0"
      },
      "execution_count": null,
      "outputs": []
    }
  ],
  "metadata": {
    "colab": {
      "collapsed_sections": [],
      "provenance": []
    },
    "kernelspec": {
      "display_name": "Python 3",
      "name": "python3"
    },
    "language_info": {
      "name": "python"
    }
  },
  "nbformat": 4,
  "nbformat_minor": 0
}